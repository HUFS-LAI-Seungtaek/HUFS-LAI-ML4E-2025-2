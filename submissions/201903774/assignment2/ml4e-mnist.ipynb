{
  "cells": [
    {
      "cell_type": "markdown",
      "id": "8c96a48f",
      "metadata": {
        "id": "8c96a48f"
      },
      "source": [
        "# MNIST 손글씨 숫자 분류 튜토리얼\n",
        "\n",
        "이 노트북에서는 PyTorch를 사용하여 MNIST 데이터셋의 손글씨 숫자를 분류하는 간단한 Multi-Layer Perceptron (MLP) 모델을 구현합니다.\n",
        "\n",
        "## 학습 목표\n",
        "1. PyTorch를 이용한 기본적인 신경망 구현\n",
        "2. 데이터 로딩 및 전처리 과정 이해\n",
        "3. 모델 훈련 및 평가 과정 체험\n",
        "4. 예측 결과 시각화 및 분석\n",
        "\n",
        "## 데이터셋 정보\n",
        "- **MNIST**: 28x28 픽셀의 흑백 손글씨 숫자 이미지 (0-9)\n",
        "- **훈련 데이터**: 60,000개\n",
        "- **테스트 데이터**: 10,000개"
      ]
    },
    {
      "cell_type": "markdown",
      "id": "4uzj97p1jfe",
      "metadata": {
        "id": "4uzj97p1jfe"
      },
      "source": [
        "## 1. 라이브러리 임포트\n",
        "\n",
        "먼저 필요한 라이브러리들을 임포트합니다:\n",
        "\n",
        "- **torch**: PyTorch의 핵심 라이브러리\n",
        "- **torch.nn**: 신경망 레이어와 손실함수\n",
        "- **torch.optim**: 최적화 알고리즘 (Adam, SGD 등)\n",
        "- **torchvision.transforms**: 이미지 전처리\n",
        "- **datasets**: HuggingFace 데이터셋 라이브러리\n",
        "- **matplotlib**: 시각화\n",
        "- **numpy**: 수치 계산"
      ]
    },
    {
      "cell_type": "code",
      "execution_count": 134,
      "id": "3z7x9hct66v",
      "metadata": {
        "colab": {
          "base_uri": "https://localhost:8080/"
        },
        "id": "3z7x9hct66v",
        "outputId": "3916dff6-6f6c-4e03-e44f-53b105b040fe"
      },
      "outputs": [
        {
          "output_type": "stream",
          "name": "stdout",
          "text": [
            "PyTorch version: 2.8.0+cu126\n",
            "CUDA available: True\n",
            "GPU: Tesla T4\n"
          ]
        }
      ],
      "source": [
        "import torch\n",
        "import torch.nn as nn\n",
        "import torch.optim as optim\n",
        "from torch.utils.data import DataLoader\n",
        "from torchvision import transforms\n",
        "from datasets import load_dataset\n",
        "import matplotlib.pyplot as plt\n",
        "import numpy as np\n",
        "\n",
        "print(f\"PyTorch version: {torch.__version__}\")\n",
        "print(f\"CUDA available: {torch.cuda.is_available()}\")\n",
        "if torch.cuda.is_available():\n",
        "    print(f\"GPU: {torch.cuda.get_device_name(0)}\")\n",
        "else:\n",
        "    print(\"Using CPU\")"
      ]
    },
    {
      "cell_type": "markdown",
      "id": "ijq7kclsqrq",
      "metadata": {
        "id": "ijq7kclsqrq"
      },
      "source": [
        "## 2. MLP (Multi-Layer Perceptron) 모델 정의\n",
        "\n",
        "간단한 3층 신경망을 구현합니다:\n",
        "\n",
        "1. **입력층**: 784개 뉴런 (28×28 픽셀을 1차원으로 펼침)\n",
        "2. **은닉층**: 100개 뉴런 + ReLU 활성화 함수\n",
        "3. **출력층**: 10개 뉴런 (0-9 클래스)\n",
        "\n",
        "### 주요 개념:\n",
        "- **nn.Linear**: Fully Connected Layer (혹은 Dense Layer)\n",
        "- **nn.ReLU**: ReLU 활성화 함수 (음수는 0, 양수는 그대로)\n",
        "- **nn.Sequential**: 레이어들을 순차적으로 연결"
      ]
    },
    {
      "cell_type": "code",
      "execution_count": 135,
      "id": "grc170711o7",
      "metadata": {
        "colab": {
          "base_uri": "https://localhost:8080/"
        },
        "id": "grc170711o7",
        "outputId": "29f46fff-8701-478a-9355-ce44e458274d"
      },
      "outputs": [
        {
          "output_type": "stream",
          "name": "stdout",
          "text": [
            "1st Experiment test\n",
            "2nd Experiment test\n",
            "모델 구조:\n",
            "secondMLP(\n",
            "  (layers): Sequential(\n",
            "    (0): Linear(in_features=784, out_features=589, bias=True)\n",
            "    (1): BatchNorm1d(589, eps=1e-05, momentum=0.1, affine=True, track_running_stats=True)\n",
            "    (2): LeakyReLU(negative_slope=0.01)\n",
            "    (3): Dropout(p=0.3, inplace=False)\n",
            "    (4): Linear(in_features=589, out_features=256, bias=True)\n",
            "    (5): BatchNorm1d(256, eps=1e-05, momentum=0.1, affine=True, track_running_stats=True)\n",
            "    (6): Tanh()\n",
            "    (7): Dropout(p=0.3, inplace=False)\n",
            "    (8): Linear(in_features=256, out_features=128, bias=True)\n",
            "    (9): BatchNorm1d(128, eps=1e-05, momentum=0.1, affine=True, track_running_stats=True)\n",
            "    (10): LeakyReLU(negative_slope=0.01)\n",
            "    (11): Dropout(p=0.3, inplace=False)\n",
            "    (12): Linear(in_features=128, out_features=10, bias=True)\n",
            "  )\n",
            ")\n",
            "\n",
            "총 파라미터 수: 649,537\n",
            "학습 가능한 파라미터 수: 649,537\n",
            "\n",
            "레이어별 파라미터:\n",
            "layers.0.weight: torch.Size([589, 784]) (461,776 개)\n",
            "layers.0.bias: torch.Size([589]) (589 개)\n",
            "layers.1.weight: torch.Size([589]) (589 개)\n",
            "layers.1.bias: torch.Size([589]) (589 개)\n",
            "layers.4.weight: torch.Size([256, 589]) (150,784 개)\n",
            "layers.4.bias: torch.Size([256]) (256 개)\n",
            "layers.5.weight: torch.Size([256]) (256 개)\n",
            "layers.5.bias: torch.Size([256]) (256 개)\n",
            "layers.8.weight: torch.Size([128, 256]) (32,768 개)\n",
            "layers.8.bias: torch.Size([128]) (128 개)\n",
            "layers.9.weight: torch.Size([128]) (128 개)\n",
            "layers.9.bias: torch.Size([128]) (128 개)\n",
            "layers.12.weight: torch.Size([10, 128]) (1,280 개)\n",
            "layers.12.bias: torch.Size([10]) (10 개)\n"
          ]
        }
      ],
      "source": [
        "import sys\n",
        "sys.path.append('/content/')\n",
        "\n",
        "import importlib\n",
        "import FirstExperiment, SecondExperiment\n",
        "importlib.reload(FirstExperiment) #첫 번째 실험 py 파일 강제 불러오기\n",
        "importlib.reload(SecondExperiment) #두 번째 실험 py 파일 강제 불러오기\n",
        "from FirstExperiment import firstMLP #첫 번째 실험 py 파일 모델 불러오기\n",
        "from SecondExperiment import secondMLP #두 번째 실험 py 파일 모델 불러오기\n",
        "\n",
        "class MLP(nn.Module):\n",
        "    def __init__(self, input_size=784, hidden_size=100, num_classes=10):\n",
        "        super(MLP, self).__init__()\n",
        "        self.layers = nn.Sequential(\n",
        "            nn.Linear(input_size, hidden_size),\n",
        "            nn.ReLU(),\n",
        "            nn.Linear(hidden_size, num_classes)\n",
        "        )\n",
        "\n",
        "    def forward(self, x):\n",
        "        \"\"\"\n",
        "        순전파 함수 // forward propagation\n",
        "        x: 입력 텐서 (batch_size, 784)\n",
        "        return: 출력 텐서 (batch_size, 10)\n",
        "        \"\"\"\n",
        "        return self.layers(x)\n",
        "\n",
        "# 모델 생성 및 구조 확인\n",
        "#model = MLP() # 기본 모델 옵션\n",
        "#model = firstMLP() #첫 번째 실험 모델 옵션\n",
        "model = secondMLP() #두 번째 실험 모델 옵션\n",
        "print(\"모델 구조:\")\n",
        "print(model)\n",
        "\n",
        "# 파라미터 개수 계산\n",
        "total_params = sum(p.numel() for p in model.parameters())\n",
        "trainable_params = sum(p.numel() for p in model.parameters() if p.requires_grad)\n",
        "print(f\"\\n총 파라미터 수: {total_params:,}\")\n",
        "print(f\"학습 가능한 파라미터 수: {trainable_params:,}\")\n",
        "\n",
        "# 각 레이어별 파라미터 수 확인\n",
        "print(\"\\n레이어별 파라미터:\")\n",
        "for name, param in model.named_parameters():\n",
        "    print(f\"{name}: {param.shape} ({param.numel():,} 개)\")"
      ]
    },
    {
      "cell_type": "markdown",
      "id": "ut4tocwnhc",
      "metadata": {
        "id": "ut4tocwnhc"
      },
      "source": [
        "## 3. 데이터 로딩 및 전처리\n",
        "\n",
        "### 3.1 하이퍼파라미터 설정\n",
        "\n",
        "먼저 학습에 사용할 하이퍼파라미터들을 정의합니다:\n",
        "\n",
        "- **batch_size**: 한 번에 처리할 데이터의 개수\n",
        "- **learning_rate**: 학습률 (너무 크면 발산, 너무 작으면 학습이 느림)\n",
        "- **epochs**: 전체 데이터셋을 몇 번 반복할지"
      ]
    },
    {
      "cell_type": "code",
      "execution_count": 136,
      "id": "so573tx44dm",
      "metadata": {
        "colab": {
          "base_uri": "https://localhost:8080/"
        },
        "id": "so573tx44dm",
        "outputId": "5f5c5b25-8987-4e5c-a6a6-83df51cebef0"
      },
      "outputs": [
        {
          "output_type": "stream",
          "name": "stdout",
          "text": [
            "1st Experiment test\n",
            "=== 하이퍼파라미터 ===\n",
            "배치 크기: 148\n",
            "테스트 배치 크기: 1000\n",
            "학습률: 0.001\n",
            "에포크 수: 4\n",
            "\n",
            "사용 디바이스: cuda\n",
            "GPU 이름: Tesla T4\n",
            "GPU 메모리: 14 GB\n"
          ]
        }
      ],
      "source": [
        "import sys\n",
        "sys.path.append('/content/')\n",
        "\n",
        "import FirstExperiment\n",
        "import importlib\n",
        "importlib.reload(FirstExperiment) #ChatGPT에 의해 해당 줄에 도움을 받음\n",
        "\n",
        "# 하이퍼파라미터 설정\n",
        "#batch_size = 128        # 배치 크기\n",
        "#test_batch_size = 1000  # 테스트 배치 크기 (메모리 효율을 위해 크게 설정)\n",
        "#learning_rate = 1e-3    # 학습률 (0.001)\n",
        "#nb_epochs = 3           # 에포크 수\n",
        "\n",
        "# 하이퍼파라미터 설정(실험 1)\n",
        "batch_size = FirstExperiment.batch_size_1st       # 배치 크기 증가(batch_size: 128 -> 138)\n",
        "test_batch_size = FirstExperiment.test_batch_size_1st  # 테스트 배치 크기 (메모리 효율을 위해 크게 설정)\n",
        "learning_rate = FirstExperiment.learning_rate_1st    # 학습률 조정\n",
        "nb_epochs = FirstExperiment.nb_epochs_1st           # 에포크 수 증가(nb_epochs: 3 -> 4)\n",
        "\n",
        "print(\"=== 하이퍼파라미터 ===\")\n",
        "print(f\"배치 크기: {batch_size}\")\n",
        "print(f\"테스트 배치 크기: {test_batch_size}\")\n",
        "print(f\"학습률: {learning_rate}\")\n",
        "print(f\"에포크 수: {nb_epochs}\")\n",
        "\n",
        "# 디바이스 설정 (GPU가 있으면 GPU 사용)\n",
        "device = torch.device(\"cuda\" if torch.cuda.is_available() else \"cpu\")\n",
        "print(f\"\\n사용 디바이스: {device}\")\n",
        "if device.type == \"cuda\":\n",
        "    print(f\"GPU 이름: {torch.cuda.get_device_name(0)}\")\n",
        "    print(f\"GPU 메모리: {torch.cuda.get_device_properties(0).total_memory // 1024**3} GB\")"
      ]
    },
    {
      "cell_type": "markdown",
      "id": "jkciy6jhkbj",
      "metadata": {
        "id": "jkciy6jhkbj"
      },
      "source": [
        "### 3.2 MNIST 데이터셋 로딩\n",
        "\n",
        "HuggingFace datasets 라이브러리를 사용하여 MNIST 데이터를 로드합니다."
      ]
    },
    {
      "cell_type": "code",
      "execution_count": 118,
      "id": "isbz53sgt4o",
      "metadata": {
        "colab": {
          "base_uri": "https://localhost:8080/"
        },
        "id": "isbz53sgt4o",
        "outputId": "8715a963-e37d-455a-d2f9-d6ab8add8159"
      },
      "outputs": [
        {
          "output_type": "stream",
          "name": "stdout",
          "text": [
            "MNIST 데이터셋을 다운로드 중...\n",
            "\n",
            "=== 데이터셋 정보 ===\n",
            "훈련 데이터: 60,000개\n",
            "테스트 데이터: 10,000개\n",
            "클래스 수: 10개 (0-9)\n",
            "이미지 크기: (28, 28)\n",
            "\n",
            "첫 번째 샘플: 라벨 5\n",
            "\n",
            "클래스별 데이터 개수:\n",
            "숫자 0: 5,923개\n",
            "숫자 1: 6,742개\n",
            "숫자 2: 5,958개\n",
            "숫자 3: 6,131개\n",
            "숫자 4: 5,842개\n",
            "숫자 5: 5,421개\n",
            "숫자 6: 5,918개\n",
            "숫자 7: 6,265개\n",
            "숫자 8: 5,851개\n",
            "숫자 9: 5,949개\n"
          ]
        }
      ],
      "source": [
        "# MNIST 데이터셋 로딩\n",
        "print(\"MNIST 데이터셋을 다운로드 중...\")\n",
        "mnist = load_dataset(\"mnist\")\n",
        "\n",
        "# 데이터셋 정보 출력\n",
        "print(\"\\n=== 데이터셋 정보 ===\")\n",
        "print(f\"훈련 데이터: {len(mnist['train']):,}개\")\n",
        "print(f\"테스트 데이터: {len(mnist['test']):,}개\")\n",
        "print(f\"클래스 수: {len(set(mnist['train']['label']))}개 (0-9)\")\n",
        "print(f\"이미지 크기: {mnist['train'][0]['image'].size}\")\n",
        "\n",
        "# 샘플 이미지 확인\n",
        "sample_image = mnist['train'][0]['image']\n",
        "sample_label = mnist['train'][0]['label']\n",
        "print(f\"\\n첫 번째 샘플: 라벨 {sample_label}\")\n",
        "\n",
        "# 클래스별 개수 확인\n",
        "from collections import Counter\n",
        "label_counts = Counter(mnist['train']['label'])\n",
        "print(\"\\n클래스별 데이터 개수:\")\n",
        "for i in range(10):\n",
        "    print(f\"숫자 {i}: {label_counts[i]:,}개\")"
      ]
    },
    {
      "cell_type": "markdown",
      "id": "frspnwc8rwb",
      "metadata": {
        "id": "frspnwc8rwb"
      },
      "source": [
        "### 3.3 샘플 데이터 시각화\n",
        "\n",
        "학습하기 전에 데이터가 어떻게 생겼는지 확인해보겠습니다."
      ]
    },
    {
      "cell_type": "code",
      "execution_count": 137,
      "id": "uj8obxszxp",
      "metadata": {
        "colab": {
          "base_uri": "https://localhost:8080/",
          "height": 599
        },
        "id": "uj8obxszxp",
        "outputId": "7c2c5d20-70e0-4848-df86-b035b9f0dcb1"
      },
      "outputs": [
        {
          "output_type": "display_data",
          "data": {
            "text/plain": [
              "<Figure size 1200x600 with 10 Axes>"
            ],
            "image/png": "[encoded data removed]"
          },
          "metadata": {}
        }
      ],
      "source": [
        "# 샘플 이미지들 시각화\n",
        "fig, axes = plt.subplots(2, 5, figsize=(12, 6))\n",
        "axes = axes.flatten()\n",
        "\n",
        "for i in range(10):\n",
        "    # 각 숫자(0-9)에 대해 첫 번째 샘플 찾기\n",
        "    for j, label in enumerate(mnist['train']['label']):\n",
        "        if label == i:\n",
        "            image = mnist['train'][j]['image']\n",
        "            axes[i].imshow(image, cmap='gray')\n",
        "            axes[i].set_title(f'Digit {i}')\n",
        "            axes[i].axis('off')\n",
        "            break\n",
        "\n",
        "plt.tight_layout()\n",
        "plt.suptitle('MNIST Dataset Samples (First image of each digit)', y=1.02)\n",
        "plt.show()"
      ]
    },
    {
      "cell_type": "markdown",
      "id": "vgb7ayrtxc",
      "metadata": {
        "id": "vgb7ayrtxc"
      },
      "source": [
        "### 3.4 데이터 정규화 (Normalization)\n",
        "\n",
        "신경망의 학습을 안정화하기 위해 픽셀 값을 정규화합니다:\n",
        "1. 픽셀 값을 0-1 범위로 변환 (ToTensor())\n",
        "2. 평균과 표준편차를 이용해 정규화 (Normalize())\n",
        "\n",
        "정규화 공식: `(픽셀값 - 평균) / 표준편차`"
      ]
    },
    {
      "cell_type": "code",
      "execution_count": 138,
      "id": "f34pdhxwn5c",
      "metadata": {
        "colab": {
          "base_uri": "https://localhost:8080/"
        },
        "id": "f34pdhxwn5c",
        "outputId": "06edeb56-1f0e-45ee-e91d-d79abc72bb4b"
      },
      "outputs": [
        {
          "output_type": "stream",
          "name": "stdout",
          "text": [
            "데이터셋의 통계 정보를 계산 중...\n",
            "평균(mean): 0.1282\n",
            "표준편차(std): 0.3051\n",
            "\n",
            "변환 파이프라인:\n",
            "1. ToTensor(): PIL Image -> PyTorch Tensor (0-255 -> 0-1)\n",
            "2. Normalize(): (픽셀값 - 0.1282) / 0.3051\n",
            "\n",
            "변환 예시:\n",
            "원본 픽셀 범위: 0-255\n",
            "ToTensor 후: 0-1\n",
            "정규화 후 범위: 약 -0.42 ~ 2.86\n"
          ]
        }
      ],
      "source": [
        "# 데이터셋의 평균과 표준편차 계산 (1000개 샘플로 추정)\n",
        "print(\"데이터셋의 통계 정보를 계산 중...\")\n",
        "sample_data = torch.stack([\n",
        "    transforms.ToTensor()(mnist['train'][i]['image'])\n",
        "    for i in range(1000)\n",
        "])\n",
        "\n",
        "mean = sample_data.mean().item()\n",
        "std = sample_data.std().item()\n",
        "print(f\"평균(mean): {mean:.4f}\")\n",
        "print(f\"표준편차(std): {std:.4f}\")\n",
        "\n",
        "# Transform 정의\n",
        "transform = transforms.Compose([\n",
        "    transforms.ToTensor(),           # PIL Image -> Tensor, 0-255 -> 0-1\n",
        "    transforms.Normalize((mean,), (std,))  # 정규화\n",
        "])\n",
        "\n",
        "print(\"\\n변환 파이프라인:\")\n",
        "print(\"1. ToTensor(): PIL Image -> PyTorch Tensor (0-255 -> 0-1)\")\n",
        "print(f\"2. Normalize(): (픽셀값 - {mean:.4f}) / {std:.4f}\")\n",
        "\n",
        "# 변환 전후 비교\n",
        "original_pixel = mnist['train'][0]['image']\n",
        "transformed = transform(original_pixel)\n",
        "print(f\"\\n변환 예시:\")\n",
        "print(f\"원본 픽셀 범위: 0-255\")\n",
        "print(f\"ToTensor 후: 0-1\")\n",
        "print(f\"정규화 후 범위: 약 {transformed.min():.2f} ~ {transformed.max():.2f}\")"
      ]
    },
    {
      "cell_type": "markdown",
      "id": "h3ec7al6cl",
      "metadata": {
        "id": "h3ec7al6cl"
      },
      "source": [
        "### 3.5 DataLoader 생성\n",
        "\n",
        "DataLoader는 데이터를 배치 단위로 불러오고, 셔플링 등의 기능을 제공합니다."
      ]
    },
    {
      "cell_type": "code",
      "execution_count": 139,
      "id": "6wfdp8efmyf",
      "metadata": {
        "colab": {
          "base_uri": "https://localhost:8080/"
        },
        "id": "6wfdp8efmyf",
        "outputId": "f116cbda-e484-4c4f-bfd5-7b2b93dcedfa"
      },
      "outputs": [
        {
          "output_type": "stream",
          "name": "stdout",
          "text": [
            "데이터셋 변환 중...\n",
            "훈련 DataLoader: 406개 배치\n",
            "테스트 DataLoader: 10개 배치\n",
            "배치당 훈련 샘플: 148개\n",
            "배치당 테스트 샘플: 1000개\n",
            "\n",
            "첫 번째 배치 shape:\n",
            "이미지: torch.Size([148, 784])  # (batch_size, 784)\n",
            "라벨: torch.Size([148])    # (batch_size,)\n"
          ]
        }
      ],
      "source": [
        "# 데이터 변환 함수 정의\n",
        "def transform_dataset(dataset):\n",
        "    \"\"\"데이터셋에 변환을 적용하는 함수\"\"\"\n",
        "    def transform_fn(batch):\n",
        "        # 이미지를 텐서로 변환하고 28x28을 784로 평탄화\n",
        "        images = [transform(img).view(-1) for img in batch[\"image\"]]\n",
        "        return {\n",
        "            \"image\": torch.stack(images),\n",
        "            \"label\": torch.tensor(batch[\"label\"])\n",
        "        }\n",
        "    return dataset.with_transform(transform_fn)\n",
        "\n",
        "# 훈련/테스트 데이터셋에 변환 적용\n",
        "print(\"데이터셋 변환 중...\")\n",
        "train_dataset = transform_dataset(mnist[\"train\"])\n",
        "test_dataset = transform_dataset(mnist[\"test\"])\n",
        "\n",
        "# DataLoader 생성\n",
        "train_loader = DataLoader(\n",
        "    train_dataset,\n",
        "    batch_size=batch_size,\n",
        "    shuffle=True  # 훈련 데이터는 섞기\n",
        ")\n",
        "test_loader = DataLoader(\n",
        "    test_dataset,\n",
        "    batch_size=test_batch_size,\n",
        "    shuffle=False  # 테스트 데이터는 순서 유지\n",
        ")\n",
        "\n",
        "print(f\"훈련 DataLoader: {len(train_loader)}개 배치\")\n",
        "print(f\"테스트 DataLoader: {len(test_loader)}개 배치\")\n",
        "print(f\"배치당 훈련 샘플: {batch_size}개\")\n",
        "print(f\"배치당 테스트 샘플: {test_batch_size}개\")\n",
        "\n",
        "# 첫 번째 배치 확인\n",
        "sample_batch = next(iter(train_loader))\n",
        "print(f\"\\n첫 번째 배치 shape:\")\n",
        "print(f\"이미지: {sample_batch['image'].shape}  # (batch_size, 784)\")\n",
        "print(f\"라벨: {sample_batch['label'].shape}    # (batch_size,)\")"
      ]
    },
    {
      "cell_type": "markdown",
      "id": "6gulko7i5ql",
      "metadata": {
        "id": "6gulko7i5ql"
      },
      "source": [
        "## 4. 모델 훈련\n",
        "\n",
        "### 4.1 모델, 손실함수, 최적화기 설정"
      ]
    },
    {
      "cell_type": "code",
      "execution_count": 140,
      "id": "65a41rghsht",
      "metadata": {
        "colab": {
          "base_uri": "https://localhost:8080/"
        },
        "id": "65a41rghsht",
        "outputId": "c3aee87c-e382-4819-d0d2-47d418ccaa99"
      },
      "outputs": [
        {
          "output_type": "stream",
          "name": "stdout",
          "text": [
            "=== 훈련 설정 ===\n",
            "모델: MLP\n",
            "손실함수: CrossEntropyLoss\n",
            "최적화기: Adam\n",
            "디바이스: cuda\n",
            "모델 파라미터 수: 79,510개\n",
            "\n",
            "=== 훈련 정보 ===\n",
            "전체 에포크: 4\n",
            "배치 크기: 148\n",
            "학습률: 0.001\n",
            "에포크당 배치 수: 406\n",
            "에포크당 훈련 샘플 수: 60,088\n",
            "전체 훈련 스텝: 1,624\n"
          ]
        }
      ],
      "source": [
        "# 모델 초기화 (이전에 생성한 model 재사용하지 않고 새로 생성)\n",
        "model = MLP().to(device)  # 모델을 GPU로 이동 (있다면)\n",
        "\n",
        "# 손실함수: 다중 클래스 분류를 위한 CrossEntropyLoss\n",
        "criterion = nn.CrossEntropyLoss()\n",
        "\n",
        "# 최적화기: Adam (적응적 학습률 알고리즘)\n",
        "optimizer = optim.Adam(model.parameters(), lr=learning_rate)\n",
        "\n",
        "print(\"=== 훈련 설정 ===\")\n",
        "print(f\"모델: {model.__class__.__name__}\")\n",
        "print(f\"손실함수: {criterion.__class__.__name__}\")\n",
        "print(f\"최적화기: {optimizer.__class__.__name__}\")\n",
        "print(f\"디바이스: {device}\")\n",
        "print(f\"모델 파라미터 수: {sum(p.numel() for p in model.parameters()):,}개\")\n",
        "\n",
        "# 훈련 설정 요약\n",
        "print(f\"\\n=== 훈련 정보 ===\")\n",
        "print(f\"전체 에포크: {nb_epochs}\")\n",
        "print(f\"배치 크기: {batch_size}\")\n",
        "print(f\"학습률: {learning_rate}\")\n",
        "print(f\"에포크당 배치 수: {len(train_loader)}\")\n",
        "print(f\"에포크당 훈련 샘플 수: {len(train_loader) * batch_size:,}\")\n",
        "print(f\"전체 훈련 스텝: {nb_epochs * len(train_loader):,}\")"
      ]
    },
    {
      "cell_type": "markdown",
      "id": "k9waf7yaxd",
      "metadata": {
        "id": "k9waf7yaxd"
      },
      "source": [
        "### 4.2 훈련 루프 실행\n",
        "\n",
        "신경망 훈련의 기본 단계:\n",
        "1. **Forward Pass**: 입력 데이터를 모델에 통과시켜 예측값 계산\n",
        "2. **Loss 계산**: 예측값과 실제값의 차이(오차) 계산\n",
        "3. **Backward Pass**: 역전파를 통해 각 파라미터의 그래디언트 계산\n",
        "4. **Parameter Update**: 최적화기를 사용해 파라미터 업데이트"
      ]
    },
    {
      "cell_type": "code",
      "execution_count": 150,
      "id": "3sp9z37zxiw",
      "metadata": {
        "colab": {
          "base_uri": "https://localhost:8080/"
        },
        "id": "3sp9z37zxiw",
        "outputId": "3e915b30-9152-4969-9ef1-8a9ca47d562e"
      },
      "outputs": [
        {
          "output_type": "stream",
          "name": "stdout",
          "text": [
            "=== 훈련 시작 ===\n",
            "\n",
            "Epoch [1/4], Batch [100/406]\n",
            "  Loss: 0.0003, Train Acc: 100.00%\n",
            "Epoch [1/4], Batch [200/406]\n",
            "  Loss: 0.0003, Train Acc: 100.00%\n",
            "Epoch [1/4], Batch [300/406]\n",
            "  Loss: 0.0003, Train Acc: 100.00%\n",
            "Epoch [1/4], Batch [400/406]\n",
            "  Loss: 0.0003, Train Acc: 100.00%\n",
            "\n",
            "Epoch [1/4] 훈련 완료:\n",
            "  평균 Loss: 0.0003\n",
            "  훈련 정확도: 100.00%\n",
            "  테스트 정확도: 98.05%\n",
            "------------------------------------------------------------\n",
            "Epoch [2/4], Batch [100/406]\n",
            "  Loss: 0.0002, Train Acc: 100.00%\n",
            "Epoch [2/4], Batch [200/406]\n",
            "  Loss: 0.0002, Train Acc: 100.00%\n",
            "Epoch [2/4], Batch [300/406]\n",
            "  Loss: 0.0002, Train Acc: 100.00%\n",
            "Epoch [2/4], Batch [400/406]\n",
            "  Loss: 0.0002, Train Acc: 100.00%\n",
            "\n",
            "Epoch [2/4] 훈련 완료:\n",
            "  평균 Loss: 0.0002\n",
            "  훈련 정확도: 100.00%\n",
            "  테스트 정확도: 98.08%\n",
            "------------------------------------------------------------\n",
            "Epoch [3/4], Batch [100/406]\n",
            "  Loss: 0.0002, Train Acc: 100.00%\n",
            "Epoch [3/4], Batch [200/406]\n",
            "  Loss: 0.0002, Train Acc: 100.00%\n",
            "Epoch [3/4], Batch [300/406]\n",
            "  Loss: 0.0002, Train Acc: 100.00%\n",
            "Epoch [3/4], Batch [400/406]\n",
            "  Loss: 0.0002, Train Acc: 100.00%\n",
            "\n",
            "Epoch [3/4] 훈련 완료:\n",
            "  평균 Loss: 0.0002\n",
            "  훈련 정확도: 100.00%\n",
            "  테스트 정확도: 98.08%\n",
            "------------------------------------------------------------\n",
            "Epoch [4/4], Batch [100/406]\n",
            "  Loss: 0.0002, Train Acc: 100.00%\n",
            "Epoch [4/4], Batch [200/406]\n",
            "  Loss: 0.0001, Train Acc: 100.00%\n",
            "Epoch [4/4], Batch [300/406]\n",
            "  Loss: 0.0002, Train Acc: 100.00%\n",
            "Epoch [4/4], Batch [400/406]\n",
            "  Loss: 0.0002, Train Acc: 100.00%\n",
            "\n",
            "Epoch [4/4] 훈련 완료:\n",
            "  평균 Loss: 0.0002\n",
            "  훈련 정확도: 100.00%\n",
            "  테스트 정확도: 98.08%\n",
            "------------------------------------------------------------\n",
            "\n",
            "=== 훈련 완료 ===\n",
            "최종 훈련 정확도: 100.00%\n",
            "최종 테스트 정확도: 98.08%\n"
          ]
        }
      ],
      "source": [
        "# 훈련 과정 추적을 위한 리스트\n",
        "train_losses = []\n",
        "train_accuracies = []\n",
        "test_accuracies = []\n",
        "\n",
        "print(\"=== 훈련 시작 ===\\n\")\n",
        "\n",
        "for epoch in range(nb_epochs):\n",
        "    # 훈련 모드로 설정\n",
        "    model.train()\n",
        "\n",
        "    running_loss = 0.0\n",
        "    correct_train = 0\n",
        "    total_train = 0\n",
        "\n",
        "    for batch_idx, batch in enumerate(train_loader):\n",
        "        # 데이터를 디바이스로 이동\n",
        "        imgs = batch[\"image\"].to(device)\n",
        "        labels = batch[\"label\"].to(device)\n",
        "\n",
        "        # 그래디언트 초기화\n",
        "        optimizer.zero_grad()\n",
        "\n",
        "        # Forward pass\n",
        "        outputs = model(imgs)\n",
        "        loss = criterion(outputs, labels)\n",
        "\n",
        "        # Backward pass\n",
        "        loss.backward()\n",
        "\n",
        "        # 파라미터 업데이트\n",
        "        optimizer.step()\n",
        "\n",
        "        # 통계 업데이트\n",
        "        running_loss += loss.item()\n",
        "        _, predicted = torch.max(outputs.data, 1)\n",
        "        total_train += labels.size(0)\n",
        "        correct_train += (predicted == labels).sum().item()\n",
        "\n",
        "        # 100 배치마다 중간 결과 출력\n",
        "        if (batch_idx + 1) % 100 == 0:\n",
        "            current_loss = running_loss / (batch_idx + 1)\n",
        "            current_acc = 100 * correct_train / total_train\n",
        "            print(f\"Epoch [{epoch+1}/{nb_epochs}], Batch [{batch_idx+1}/{len(train_loader)}]\")\n",
        "            print(f\"  Loss: {current_loss:.4f}, Train Acc: {current_acc:.2f}%\")\n",
        "\n",
        "    # 에포크 종료 후 훈련 통계\n",
        "    epoch_loss = running_loss / len(train_loader)\n",
        "    epoch_train_acc = 100 * correct_train / total_train\n",
        "    train_losses.append(epoch_loss)\n",
        "    train_accuracies.append(epoch_train_acc)\n",
        "\n",
        "    print(f\"\\nEpoch [{epoch+1}/{nb_epochs}] 훈련 완료:\")\n",
        "    print(f\"  평균 Loss: {epoch_loss:.4f}\")\n",
        "    print(f\"  훈련 정확도: {epoch_train_acc:.2f}%\")\n",
        "\n",
        "    # 테스트 정확도 계산\n",
        "    model.eval()  # 평가 모드로 설정\n",
        "    correct_test = 0\n",
        "    total_test = 0\n",
        "\n",
        "    with torch.no_grad():  # 그래디언트 계산 비활성화\n",
        "        for batch in test_loader:\n",
        "            imgs = batch[\"image\"].to(device)\n",
        "            labels = batch[\"label\"].to(device)\n",
        "\n",
        "            outputs = model(imgs)\n",
        "            _, predicted = torch.max(outputs, 1)\n",
        "            total_test += labels.size(0)\n",
        "            correct_test += (predicted == labels).sum().item()\n",
        "\n",
        "    test_acc = 100 * correct_test / total_test\n",
        "    test_accuracies.append(test_acc)\n",
        "    print(f\"  테스트 정확도: {test_acc:.2f}%\")\n",
        "    print(\"-\" * 60)\n",
        "\n",
        "print(f\"\\n=== 훈련 완료 ===\")\n",
        "print(f\"최종 훈련 정확도: {train_accuracies[-1]:.2f}%\")\n",
        "print(f\"최종 테스트 정확도: {test_accuracies[-1]:.2f}%\")"
      ]
    },
    {
      "cell_type": "markdown",
      "id": "pqku2b8psyn",
      "metadata": {
        "id": "pqku2b8psyn"
      },
      "source": [
        "## 5. 결과 분석 및 시각화\n",
        "\n",
        "### 5.1 훈련 과정 시각화\n",
        "\n",
        "Loss와 정확도의 변화를 그래프로 확인해보겠습니다."
      ]
    },
    {
      "cell_type": "code",
      "execution_count": 152,
      "id": "icbqk30iqt",
      "metadata": {
        "colab": {
          "base_uri": "https://localhost:8080/",
          "height": 599
        },
        "id": "icbqk30iqt",
        "outputId": "35bf4296-663b-4f50-ea3b-7c6f055c7183"
      },
      "outputs": [
        {
          "output_type": "display_data",
          "data": {
            "text/plain": [
              "<Figure size 1500x500 with 2 Axes>"
            ],
            "image/png": "[encoded data removed]"
          },
          "metadata": {}
        },
        {
          "output_type": "stream",
          "name": "stdout",
          "text": [
            "=== 최종 결과 요약 ===\n",
            "최종 훈련 Loss: 0.0002\n",
            "최종 훈련 정확도: 100.00%\n",
            "최종 테스트 정확도: 98.08%\n",
            "과적합 정도: 1.92% (훈련-테스트 정확도 차이)\n"
          ]
        }
      ],
      "source": [
        "from sklearn.metrics import confusion_matrix\n",
        "import seaborn as sns\n",
        "import matplotlib.pyplot as plt\n",
        "\n",
        "# 훈련 과정 시각화\n",
        "fig, (ax1, ax2) = plt.subplots(1, 2, figsize=(15, 5))\n",
        "\n",
        "# Loss 그래프\n",
        "epochs_range = range(1, nb_epochs + 1)\n",
        "ax1.plot(epochs_range, train_losses, 'b-', marker='o', linewidth=2, markersize=8)\n",
        "ax1.set_title('Training Loss', fontsize=14, fontweight='bold')\n",
        "ax1.set_xlabel('Epoch', fontsize=12)\n",
        "ax1.set_ylabel('Loss', fontsize=12)\n",
        "ax1.grid(True, alpha=0.3)\n",
        "ax1.set_xticks(epochs_range)\n",
        "\n",
        "# 정확도 그래프\n",
        "ax2.plot(epochs_range, train_accuracies, 'g-', marker='s', linewidth=2,\n",
        "         markersize=8, label='Train Accuracy')\n",
        "ax2.plot(epochs_range, test_accuracies, 'r-', marker='^', linewidth=2,\n",
        "         markersize=8, label='Test Accuracy')\n",
        "ax2.set_title('Accuracy Comparison', fontsize=14, fontweight='bold')\n",
        "ax2.set_xlabel('Epoch', fontsize=12)\n",
        "ax2.set_ylabel('Accuracy (%)', fontsize=12)\n",
        "ax2.grid(True, alpha=0.3)\n",
        "ax2.legend(fontsize=11)\n",
        "ax2.set_xticks(epochs_range)\n",
        "ax2.set_ylim(80, 100)\n",
        "\n",
        "plt.tight_layout()\n",
        "plt.show()\n",
        "\n",
        "# 최종 결과 요약\n",
        "print(\"=== 최종 결과 요약 ===\")\n",
        "print(f\"최종 훈련 Loss: {train_losses[-1]:.4f}\")\n",
        "print(f\"최종 훈련 정확도: {train_accuracies[-1]:.2f}%\")\n",
        "print(f\"최종 테스트 정확도: {test_accuracies[-1]:.2f}%\")\n",
        "print(f\"과적합 정도: {train_accuracies[-1] - test_accuracies[-1]:.2f}% (훈련-테스트 정확도 차이)\")"
      ]
    },
    {
      "cell_type": "markdown",
      "id": "7u31xib5xoj",
      "metadata": {
        "id": "7u31xib5xoj"
      },
      "source": [
        "### 5.2 예측 결과 시각화\n",
        "\n",
        "모델이 실제로 어떻게 예측하는지 샘플 이미지들을 확인해보겠습니다. 올바른 예측과 틀린 예측을 모두 살펴보겠습니다."
      ]
    },
    {
      "cell_type": "code",
      "execution_count": 153,
      "id": "iujp87752wh",
      "metadata": {
        "colab": {
          "base_uri": "https://localhost:8080/",
          "height": 671
        },
        "id": "iujp87752wh",
        "outputId": "36d2c17b-6077-4c66-aa6a-f58bf9ab5707"
      },
      "outputs": [
        {
          "output_type": "display_data",
          "data": {
            "text/plain": [
              "<Figure size 1500x600 with 10 Axes>"
            ],
            "image/png": "[encoded data removed]"
          },
          "metadata": {}
        },
        {
          "output_type": "stream",
          "name": "stdout",
          "text": [
            "올바른 예측: 7개\n",
            "틀린 예측: 3개\n"
          ]
        }
      ],
      "source": [
        "from sklearn.metrics import classification_report\n",
        "\n",
        "# 예측 샘플 수집\n",
        "model.eval()\n",
        "correct_samples = []\n",
        "wrong_samples = []\n",
        "\n",
        "with torch.no_grad():\n",
        "    for batch in test_loader:\n",
        "        imgs = batch[\"image\"].to(device)\n",
        "        labels = batch[\"label\"].to(device)\n",
        "        outputs = model(imgs)\n",
        "        _, predicted = torch.max(outputs, 1)\n",
        "\n",
        "        # 정확한 예측과 틀린 예측 분리\n",
        "        for i in range(len(imgs)):\n",
        "            if len(correct_samples) >= 7 and len(wrong_samples) >= 3:\n",
        "                break\n",
        "\n",
        "            sample = (imgs[i], labels[i], predicted[i], outputs[i])\n",
        "            if labels[i] == predicted[i] and len(correct_samples) < 7:\n",
        "                correct_samples.append(sample)\n",
        "            elif labels[i] != predicted[i] and len(wrong_samples) < 3:\n",
        "                wrong_samples.append(sample)\n",
        "\n",
        "        if len(correct_samples) >= 7 and len(wrong_samples) >= 3:\n",
        "            break\n",
        "\n",
        "# 시각화: 7개 맞춘 것 + 3개 틀린 것\n",
        "display_samples = correct_samples + wrong_samples\n",
        "\n",
        "fig, axes = plt.subplots(2, 5, figsize=(15, 6))\n",
        "axes = axes.flatten()\n",
        "\n",
        "for i, (img, true_label, pred_label, output) in enumerate(display_samples):\n",
        "    # 28x28로 reshape (정규화된 상태)\n",
        "    img_display = img.cpu().view(28, 28)\n",
        "\n",
        "    # 정규화를 역변환 (시각화를 위해)\n",
        "    img_display = img_display * std + mean\n",
        "    img_display = torch.clamp(img_display, 0, 1)\n",
        "\n",
        "    axes[i].imshow(img_display, cmap='gray')\n",
        "\n",
        "    # 색상 설정: 맞으면 초록, 틀리면 빨강\n",
        "    color = 'green' if true_label == pred_label else 'red'\n",
        "    axes[i].set_title(f'True: {true_label.item()}, Pred: {pred_label.item()}', color=color, fontweight='bold')\n",
        "    axes[i].axis('off')\n",
        "\n",
        "plt.tight_layout()\n",
        "plt.suptitle('Prediction Results (Green: Correct, Red: Wrong)', y=1.02, fontsize=16, fontweight='bold')\n",
        "plt.show()\n",
        "\n",
        "print(f\"올바른 예측: {len([s for s in display_samples if s[1] == s[2]])}개\")\n",
        "print(f\"틀린 예측: {len([s for s in display_samples if s[1] != s[2]])}개\")"
      ]
    },
    {
      "cell_type": "markdown",
      "id": "bzow5k6y57j",
      "metadata": {
        "id": "bzow5k6y57j"
      },
      "source": [
        "### 5.3 모델의 확신도 분석\n",
        "\n",
        "틀리게 예측한 경우, 모델이 각 클래스에 대해 얼마나 확신했는지 확인해보겠습니다."
      ]
    },
    {
      "cell_type": "code",
      "execution_count": 154,
      "id": "7jz1pmdl16x",
      "metadata": {
        "colab": {
          "base_uri": "https://localhost:8080/",
          "height": 499
        },
        "id": "7jz1pmdl16x",
        "outputId": "c56a7d34-ef15-46a7-a535-777c85b01161"
      },
      "outputs": [
        {
          "output_type": "display_data",
          "data": {
            "text/plain": [
              "<Figure size 1200x400 with 2 Axes>"
            ],
            "image/png": "[encoded data removed]"
          },
          "metadata": {}
        },
        {
          "output_type": "stream",
          "name": "stdout",
          "text": [
            "\\n=== 모델의 상위 3개 예측 ===\n",
            "1위: 숫자 2 (확률: 98.23%)\n",
            "2위: 숫자 6 (확률: 1.76%)\n",
            "3위: 숫자 4 (확률: 0.01%)\n",
            "\\n실제 라벨 4의 확률: 0.01%\n"
          ]
        }
      ],
      "source": [
        "from collections import Counter\n",
        "\n",
        "# 틀린 예측에 대한 상세 분석\n",
        "if wrong_samples:\n",
        "    wrong_img, wrong_true, wrong_pred, wrong_output = wrong_samples[0]\n",
        "\n",
        "    # 소프트맥스를 통해 확률로 변환\n",
        "    probabilities = torch.softmax(wrong_output, dim=0).cpu()\n",
        "\n",
        "    fig, (ax1, ax2) = plt.subplots(1, 2, figsize=(12, 4))\n",
        "\n",
        "    # 왼쪽: 틀린 예측 이미지\n",
        "    img_display = wrong_img.cpu().view(28, 28) * std + mean\n",
        "    img_display = torch.clamp(img_display, 0, 1)\n",
        "    ax1.imshow(img_display, cmap='gray')\n",
        "    ax1.set_title(f'Wrong Prediction Case\\\\nTrue: {wrong_true.item()}, Pred: {wrong_pred.item()}',\n",
        "                  color='red', fontsize=12, fontweight='bold')\n",
        "    ax1.axis('off')\n",
        "\n",
        "    # 오른쪽: 확률 분포\n",
        "    bars = ax2.bar(range(10), probabilities, alpha=0.7, color='lightblue', edgecolor='black')\n",
        "\n",
        "    # 실제 라벨과 예측 라벨 강조\n",
        "    bars[wrong_true.item()].set_color('green')\n",
        "    bars[wrong_pred.item()].set_color('red')\n",
        "\n",
        "    ax2.set_xlabel('Digit Class', fontsize=11)\n",
        "    ax2.set_ylabel('Probability', fontsize=11)\n",
        "    ax2.set_title('Model Confidence by Class', fontsize=12, fontweight='bold')\n",
        "    ax2.set_xticks(range(10))\n",
        "    ax2.grid(axis='y', alpha=0.3)\n",
        "\n",
        "    # 범례 추가\n",
        "    from matplotlib.lines import Line2D\n",
        "    legend_elements = [Line2D([0], [0], color='green', lw=4, label=f'True Label ({wrong_true.item()})'),\n",
        "                       Line2D([0], [0], color='red', lw=4, label=f'Predicted ({wrong_pred.item()})')]\n",
        "    ax2.legend(handles=legend_elements, loc='upper right')\n",
        "\n",
        "    plt.tight_layout()\n",
        "    plt.show()\n",
        "\n",
        "    # 상위 3개 확률 출력\n",
        "    top3_probs, top3_indices = torch.topk(probabilities, 3)\n",
        "    print(\"\\\\n=== 모델의 상위 3개 예측 ===\")\n",
        "    for i, (prob, idx) in enumerate(zip(top3_probs, top3_indices)):\n",
        "        print(f\"{i+1}위: 숫자 {idx.item()} (확률: {prob.item()*100:.2f}%)\")\n",
        "\n",
        "    print(f\"\\\\n실제 라벨 {wrong_true.item()}의 확률: {probabilities[wrong_true.item()]*100:.2f}%\")\n",
        "\n",
        "else:\n",
        "    print(\"틀린 예측 샘플이 없습니다. 모델이 모든 테스트 샘플을 정확히 예측했습니다!\")"
      ]
    },
    {
      "cell_type": "markdown",
      "id": "2fiwvxodjr8",
      "metadata": {
        "id": "2fiwvxodjr8"
      },
      "source": [
        "## 6. 과제 및 실험\n",
        "\n",
        "### 💡 학습을 위한 실험 제안\n",
        "\n",
        "이제 기본 모델을 이해했으니, 다음과 같은 실험들을 해보세요:\n",
        "\n",
        "#### 🔧 **Try 1: 하이퍼파라미터 튜닝**\n",
        "- 학습률을 바꿔보세요 (`learning_rate = 1e-2`, `1e-4` 등)\n",
        "- 은닉층 크기를 조정해보세요 (`hidden_size = 50`, `200` 등)\n",
        "- 에포크 수를 늘려보세요 (`nb_epochs = 5` 또는 `10`)\n",
        "\n",
        "#### 🏗️ **Try 2: 모델 구조 개선**\n",
        "- 은닉층을 더 추가해보세요 (3층, 4층 신경망)\n",
        "- 다른 활성화 함수를 시도해보세요 (`nn.Tanh()`, `nn.Sigmoid()`)\n",
        "- Dropout을 추가해서 과적합을 방지해보세요\n",
        "\n",
        "#### 📈 **Try 3: 성능 분석**\n",
        "- Confusion Matrix 그리기\n",
        "- 클래스별 정확도 분석\n",
        "- 잘못 분류된 이미지들의 패턴 찾기\n",
        "\n",
        "### 📝 **실험 결과 기록하기**\n",
        "각 실험 후 다음을 기록해보세요:\n",
        "- 최종 테스트 정확도\n",
        "- 훈련 시간\n",
        "- 관찰된 패턴이나 인사이트"
      ]
    },
    {
      "cell_type": "code",
      "execution_count": 155,
      "id": "9s4s7lwm7ea",
      "metadata": {
        "colab": {
          "base_uri": "https://localhost:8080/"
        },
        "id": "9s4s7lwm7ea",
        "outputId": "503a3b36-e63b-455c-8f5d-960002d3a0fd"
      },
      "outputs": [
        {
          "output_type": "stream",
          "name": "stdout",
          "text": [
            "실험을 시작해보세요! 💪\n",
            "기본 모델 최종 테스트 정확도: 97.68% ± 0.18%\n",
            "기본 모델 훈련 시간: 0분 46.71초 ± 0분 1.10초\n",
            "\n",
            "\n",
            "실험 1: 하이퍼파라미터 튜닝\n",
            "\n",
            "\n",
            "변경 사항: 학습률 변경(1e-3 -> 5e-4 -> 1e-4 -> 5e-3 -> 1e-2), 5번 반복\n",
            "학습률 5e-4로 감소: 97.25% ± 0.56%, 0분 51.61초 ± 0분 6.88초\n",
            "학습률 5e-1로 감소: 93.97% ± 1.08%, 0분 50.91초 ± 0분 3.23초\n",
            "학습률 5e-3로 증가: 96.97% ± 0.14%, 0분 47.03초 ± 0분 0.52초\n",
            "학습률 1e-2로 증가: 95.91% ± 0.20%, 0분 48.24초 ± 0분 0.91초\n",
            "\n",
            "\n",
            "변경 사항: 배치 크기 변경(128 -> 118 -> 138 -> 148 -> 200), 학습률 1e-3으로 유지, 5번 반복\n",
            "배치 크기 118로 감소: 97.43% ± 0.48%, 0분 48.93초 ± 0분 1.60초\n",
            "배치 크기 138로 증가: 97.40% ± 0.32%, 0분 51.49초 ± 0분 4.95초\n",
            "배치 크기 148로 증가: 97.46% ± 0.28%, 0분 47.93초 ± 0분 0.69초\n",
            "배치 크기 158로 증가: 97.49% ± 0.39%, 0분 47.02초 ± 0분 0.50초\n",
            "배치 크기 200로 증가: 97.35% ± 0.59%, 0분 47.12초 ± 0분 1.03초\n",
            "\n",
            "\n",
            "변경 사항: 에포크 수 변경(3 -> 2 -> 4 -> 5), 배치 크기 148로 증가, 학습률 1e-3으로 유지, 5번 반복\n",
            "에포크 수 2로 감소: 97.21% ± 0.65%, 0분 30.44초 ± 0분 0.81초\n",
            "에포크 수 4로 증가: 97.60% ± 0.20%, 1분 3.57초 ± 0분 0.66초\n",
            "에포크 수 5로 증가: 97.71% ± 0.16%, 1분 19.43초 ± 0분 0.71초\n",
            "\n",
            "\n",
            "변경 사항: 은닉층 개수 변경(100 -> 500 -> 1000 -> 600 -> 589 -> 550), 에포크 수 4로 증가, 배치 크기 148로 증가, 학습률 1e-3으로 유지, 5번 반복\n",
            "은닉층 개수 500으로 증가: 97.51% ± 0.24%, 1분 5.43초 ± 0분 2.02초\n",
            "은닉층 개수 1000으로 증가: 97.44% ± 0.24%, 1분 7.51초 ± 0분 0.56초\n",
            "은닉층 개수 600으로 감소: 97.42% ± 0.19%, 1분 3.09초 ± 0분 0.38초\n",
            "은닉층 개수 589으로 감소: 97.45% ± 0.26%, 1분 5.27초 ± 0분 2.47초\n",
            "은닉층 개수 550으로 감소: 97.64% ± 0.24%, 1분 6.09초 ± 0분 0.79초\n",
            "\n",
            "\n",
            "변경 사항: 은닉층 개수 550로 증가, 에포크 수 4로 증가, 배치 크기 148로 증가, 학습률 1e-3으로 유지, 10번 반복\n",
            "최종 테스트 정확도: 97.66% ± 0.27%\n",
            "훈련 시간: 1분 7.04초 ± 0분 2.36초\n",
            "\n",
            "\n"
          ]
        }
      ],
      "source": [
        "# 실험을 위한 빈 셀\n",
        "# 여기서 위에서 제안한 실험들을 진행해보세요!\n",
        "\n",
        "# 예시: 학습률을 바꿔서 재훈련\n",
        "# learning_rate = 1e-2  # 원래보다 10배 큰 학습률\n",
        "# model = MLP().to(device)\n",
        "# optimizer = optim.Adam(model.parameters(), lr=learning_rate)\n",
        "#\n",
        "# 위의 훈련 루프를 다시 실행하고 결과를 비교해보세요!\n",
        "\n",
        "print(\"실험을 시작해보세요! 💪\")\n",
        "\n",
        "import numpy as np\n",
        "\n",
        "#ChatGPT 도움 참고함(15번째~34번째)\n",
        "# 초를 \"분 초\" 형식으로 변환하는 함수\n",
        "def ms(s):\n",
        "    mean_time = np.mean(s)\n",
        "    std_time = np.std(s)\n",
        "    minutes = mean_time // 60\n",
        "    seconds = mean_time % 60\n",
        "    minutes2 = std_time // 60\n",
        "    seconds2 = std_time % 60\n",
        "    return \"{0}분 {1:.2f}초 ± {2}분 {3:.2f}초\".format(int(minutes), seconds, int(minutes2), seconds2)\n",
        "\n",
        "# 기본 모델 성능 실험 결과 (총 10번 시행)\n",
        "basic_accuracies = [97.77, 97.70, 97.62, 97.66, 97.26, 97.69, 97.56, 97.72, 97.91, 97.90]\n",
        "basic_train_time = [45.45, 45.58, 46.84, 44.68, 47.57, 47.22, 47.06, 46.80, 48.60, 47.27]\n",
        "\n",
        "# 평균 및 표준편차 계산\n",
        "def meanstd(a):\n",
        "  mean_acc = np.mean(a)\n",
        "  std_acc = np.std(a)\n",
        "  return \"{0:.2f}% ± {1:.2f}%\".format(mean_acc, std_acc)\n",
        "\n",
        "# 결과 출력\n",
        "print(\"기본 모델 최종 테스트 정확도: {0}\".format(meanstd(basic_accuracies)))\n",
        "print(\"기본 모델 훈련 시간: {0}\".format(ms(basic_train_time)))\n",
        "\n",
        "print(\"\\n\")\n",
        "print(\"실험 1: 하이퍼파라미터 튜닝\")\n",
        "print(\"\\n\")\n",
        "print(\"변경 사항: 학습률 변경(1e-3 -> 5e-4 -> 1e-4 -> 5e-3 -> 1e-2), 5번 반복\")\n",
        "FiveEdash4_accuracies = [96.19, 97.19, 97.57, 97.71, 97.57]\n",
        "FiveEdash4_train_time = [65.13, 49.46, 47.13, 46.57, 49.74]\n",
        "print(f\"학습률 5e-4로 감소: {meanstd(FiveEdash4_accuracies)}, {ms(FiveEdash4_train_time)}\")\n",
        "OneEdash4_accuracies = [94.25, 92.60, 92.93, 94.53, 95.56]\n",
        "OneEdash4_train_time = [47.43, 56.62, 48.20, 51.14, 51.15]\n",
        "print(f\"학습률 5e-1로 감소: {meanstd(OneEdash4_accuracies)}, {ms(OneEdash4_train_time)}\")\n",
        "FiveEdash3_accuracies = [96.96, 97.00, 96.75, 96.93, 97.20]\n",
        "FiveEdash3_train_time = [46.95, 46.33, 46.66, 47.47, 47.74]\n",
        "print(f\"학습률 5e-3로 증가: {meanstd(FiveEdash3_accuracies)}, {ms(FiveEdash3_train_time)}\")\n",
        "OneEdash2_accuracies = [95.96, 95.90, 95.60, 96.22, 95.87]\n",
        "OneEdash2_train_time = [47.11, 49.43, 48.19, 47.39, 49.10]\n",
        "print(f\"학습률 1e-2로 증가: {meanstd(OneEdash2_accuracies)}, {ms(OneEdash2_train_time)}\")\n",
        "print(\"\\n\")\n",
        "\n",
        "print(\"변경 사항: 배치 크기 변경(128 -> 118 -> 138 -> 148 -> 200), 학습률 1e-3으로 유지, 5번 반복\")\n",
        "BatchSize118_accuracies = [96.50, 97.48, 97.77, 97.61, 97.79]\n",
        "BatchSize118_train_time = [51.94, 48.29, 47.52, 47.76, 49.14]\n",
        "print(f\"배치 크기 118로 감소: {meanstd(BatchSize118_accuracies)}, {ms(BatchSize118_train_time)}\")\n",
        "BatchSize138_accuracies = [96.79, 97.37, 97.65, 97.58, 97.61]\n",
        "BatchSize138_train_time = [61.33, 50.07, 49.01, 48.68, 48.35]\n",
        "print(f\"배치 크기 138로 증가: {meanstd(BatchSize138_accuracies)}, {ms(BatchSize138_train_time)}\")\n",
        "BatchSize148_accuracies = [96.90, 97.62, 97.64, 97.51, 97.62]\n",
        "BatchSize148_train_time = [47.54, 48.40, 47.30, 47.37, 49.06]\n",
        "print(f\"배치 크기 148로 증가: {meanstd(BatchSize148_accuracies)}, {ms(BatchSize148_train_time)}\")\n",
        "BatchSize158_accuracies = [96.72, 97.55, 97.70, 97.81, 97.68]\n",
        "BatchSize158_train_time = [46.86, 47.79, 47.06, 47.14, 46.24]\n",
        "print(f\"배치 크기 158로 증가: {meanstd(BatchSize158_accuracies)}, {ms(BatchSize158_train_time)}\")\n",
        "BatchSize200_accuracies = [96.19, 97.48, 97.79, 97.56, 97.74]\n",
        "BatchSize200_train_time = [46.65, 46.62, 46.53, 46.62, 49.19]\n",
        "print(f\"배치 크기 200로 증가: {meanstd(BatchSize200_accuracies)}, {ms(BatchSize200_train_time)}\")\n",
        "print(\"\\n\")\n",
        "\n",
        "print(\"변경 사항: 에포크 수 변경(3 -> 2 -> 4 -> 5), 배치 크기 148로 증가, 학습률 1e-3으로 유지, 5번 반복\")\n",
        "Epoch_2_accuracies = [96.00, 97.06, 97.66, 97.63, 97.71]\n",
        "Epoch_2_train_time = [30.98, 31.73, 29.59, 29.73, 30.18]\n",
        "print(f\"에포크 수 2로 감소: {meanstd(Epoch_2_accuracies)}, {ms(Epoch_2_train_time)}\")\n",
        "Epoch_4_accuracies = [97.30, 97.52, 97.53, 97.77, 97.87]\n",
        "Epoch_4_train_time = [63.45, 62.53, 63.38, 64.48, 64.03]\n",
        "print(f\"에포크 수 4로 증가: {meanstd(Epoch_4_accuracies)}, {ms(Epoch_4_train_time)}\")\n",
        "Epoch_5_accuracies = [97.43, 97.73, 97.69, 97.82, 97.89]\n",
        "Epoch_5_train_time = [79.62, 78.74, 80.67, 79.38, 78.73]\n",
        "print(f\"에포크 수 5로 증가: {meanstd(Epoch_5_accuracies)}, {ms(Epoch_5_train_time)}\")\n",
        "print(\"\\n\")\n",
        "\n",
        "print(\"변경 사항: 은닉층 개수 변경(100 -> 500 -> 1000 -> 600 -> 589 -> 550), 에포크 수 4로 증가, 배치 크기 148로 증가, 학습률 1e-3으로 유지, 5번 반복\")\n",
        "Hidden500_accuracies = [97.05, 97.48, 97.65, 97.65, 97.73]\n",
        "Hidden500_train_time = [62.75, 63.49, 65.89, 68.04, 66.99]\n",
        "print(f\"은닉층 개수 500으로 증가: {meanstd(Hidden500_accuracies)}, {ms(Hidden500_train_time)}\")\n",
        "Hidden1000_accuracies = [97.12, 97.71, 97.57, 97.19, 97.62]\n",
        "Hidden1000_train_time = [67.46, 67.03, 66.80, 68.25, 68.02]\n",
        "print(f\"은닉층 개수 1000으로 증가: {meanstd(Hidden1000_accuracies)}, {ms(Hidden1000_train_time)}\")\n",
        "Hidden600_accuracies = [97.20, 97.60, 97.57, 97.19, 97.56]\n",
        "Hidden600_train_time = [63.59, 63.21, 62.89, 62.48, 63.28]\n",
        "print(f\"은닉층 개수 600으로 감소: {meanstd(Hidden600_accuracies)}, {ms(Hidden600_train_time)}\")\n",
        "Hidden589_accuracies = [97.30, 97.03, 97.54, 97.66, 97.73]\n",
        "Hidden589_train_time = [63.45, 63.62, 62.73, 68.31, 68.22]\n",
        "print(f\"은닉층 개수 589으로 감소: {meanstd(Hidden589_accuracies)}, {ms(Hidden589_train_time)}\")\n",
        "Hidden550_accuracies = [97.18, 97.65, 97.79, 97.79, 97.79]\n",
        "Hidden550_train_time = [66.64, 66.98, 66.55, 65.27, 65.03]\n",
        "print(f\"은닉층 개수 550으로 감소: {meanstd(Hidden550_accuracies)}, {ms(Hidden550_train_time)}\")\n",
        "Hidden540_accuracies = [97.18, 97.65, 97.79, 97.79, 97.79]\n",
        "Hidden540_train_time = [66.64, 66.98, 66.55, 65.27, 65.03]\n",
        "print(\"\\n\")\n",
        "\n",
        "print(\"변경 사항: 은닉층 개수 550로 증가, 에포크 수 4로 증가, 배치 크기 148로 증가, 학습률 1e-3으로 유지, 10번 반복\")\n",
        "final_1st_accuracies = [97.39, 97.20, 97.68, 97.85, 97.27, 97.70, 97.90, 97.70, 97.98, 97.97]\n",
        "final_1st_train_time = [71.72, 67.68, 69.58, 63.85, 65.31, 66.51, 69.35, 66.09, 64.92, 65.43]\n",
        "print(f\"최종 테스트 정확도: {meanstd(final_1st_accuracies)}\")\n",
        "print(f\"훈련 시간: {ms(final_1st_train_time)}\")\n",
        "print(\"\\n\")\n"
      ]
    },
    {
      "cell_type": "code",
      "source": [
        "print(\"실험 2: 모델 구조 개선 - 실험 1에서 튜닝한 하이퍼파라미터 유지\")\n",
        "print(\"\\n\")\n",
        "#은닉층 2개 추가로 3층 신경망 구성(hidden_size1=589, hidden_size2=256, hidden_size3=128),\n",
        "#LeakyReLU 및 Tanh 적용(전자는 첫 번째와 세 번째, 후자는 두 번째에 적용),Dropout 모든 층에 적용(p=0.3),\n",
        "#BatchNormalization 1d 모든 층에 적용\n",
        "#해당 실험의 secondMLP 코드 작성에는 ChatGPT의 도움을 받아 작성함\n",
        "\n",
        "import numpy as np\n",
        "\n",
        "#ChatGPT 도움 참고함(10번째~24번째)\n",
        "# 초를 \"분 초\" 형식으로 변환하는 함수\n",
        "def ms(s):\n",
        "    mean_time = np.mean(s)\n",
        "    std_time = np.std(s)\n",
        "    minutes = mean_time // 60\n",
        "    seconds = mean_time % 60\n",
        "    minutes2 = std_time // 60\n",
        "    seconds2 = std_time % 60\n",
        "    return \"{0}분 {1:.2f}초 ± {2}분 {3:.2f}초\".format(int(minutes), seconds, int(minutes2), seconds2)\n",
        "\n",
        "# 평균 및 표준편차 계산\n",
        "def meanstd(a):\n",
        "  mean_acc = np.mean(a)\n",
        "  std_acc = np.std(a)\n",
        "  return \"{0:.2f}% ± {1:.2f}%\".format(mean_acc, std_acc)\n",
        "\n",
        "print(\"은닉층 2개로 증가(hidden_size1=550, hidden_size2=256), 5번 반복\")\n",
        "two_layers_accuracies = [97.14, 97.65, 97.76, 97.64, 97.57]\n",
        "two_layers_train_time = [73.26, 70.23, 69.39, 66.89, 65.59]\n",
        "print(f\"{meanstd(two_layers_accuracies)}, {ms(two_layers_train_time)}\")\n",
        "print(\"\\n\")\n",
        "\n",
        "print(\"은닉층 3개로 증가(hidden_size1=550, hidden_size2=256, hidden_size3=128), 5번 반복\")\n",
        "three_layers_accuracies = [97.27, 97.58, 97.64, 97.74, 97.76]\n",
        "three_layers_train_time = [58.73, 60.32, 59.09, 58.90, 62.39]\n",
        "print(f\"{meanstd(three_layers_accuracies)}, {ms(three_layers_train_time)}\")\n",
        "print(\"\\n\")\n",
        "\n",
        "print(\"은닉층 4개로 증가(hidden_size1=550, hidden_size2=256, hidden_size3=128, hidden_size=64), 5번 반복\")\n",
        "four_layers_accuracies = [96.96, 97.67, 97.57, 97.63, 97.58]\n",
        "four_layers_train_time = [59.84, 60.68, 61.43, 62.38, 58.99]\n",
        "print(f\"{meanstd(four_layers_accuracies)}, {ms(four_layers_train_time)}\")\n",
        "print(\"\\n\")\n",
        "\n",
        "print(\"Dropout(p=0.3) 모든 층 적용, 5번 반복\")\n",
        "add_dropout_accuracies = [97.19, 97.55, 97.62, 97.71, 97.36]\n",
        "add_dropout_train_time = [59.48, 59.06, 62.50, 59.51, 62.03]\n",
        "print(f\"{meanstd(add_dropout_accuracies)}, {ms(add_dropout_train_time)}\")\n",
        "print(\"\\n\")\n",
        "\n",
        "print(\"LeakyReLU 1번째 및 3번째 은닉층에 적용, Tanh 2번째 은닉층에 적용, 5번 반복\")\n",
        "leakytanh_accuracies = [97.72, 97.89, 97.83, 97.94, 98.01]\n",
        "leakytanh_train_time = [63.91, 60.23, 61.23, 59.84, 60.57]\n",
        "print(f\"{meanstd(leakytanh_accuracies)}, {ms(leakytanh_train_time)}\")\n",
        "print(\"\\n\")\n",
        "\n",
        "print(\"BatchNorm1d 정규화 모든 은닉층에 적용, 5번 반복\")\n",
        "batchnorm1d_accuracies = [97.02, 97.64, 97.59, 97.71, 97.80]\n",
        "batchnorm1d_train_time = [62.44, 61.70, 62.66, 64.04, 63.04]\n",
        "print(f\"{meanstd(batchnorm1d_accuracies)}, {ms(batchnorm1d_train_time)}\")\n",
        "print(\"\\n\")\n",
        "\n",
        "print(\"BatchNorm1d 정규화 미적용 및 첫 번째 은닉층 사이즈 589로 증가, 5번 반복\")\n",
        "hidden1_589_accuracies = [96.94, 97.76, 97.61, 97.95, 98.03]\n",
        "hidden1_589_train_time = [69.48, 63.17, 63.13, 62.15, 61.98]\n",
        "print(f\"{meanstd(hidden1_589_accuracies)}, {ms(hidden1_589_train_time)}\")\n",
        "print(\"\\n\")\n",
        "\n",
        "print(\"BatchNorm1d 정규화 모든 은닉층에 재적용한 최종 모델 실험(10번 반복)\")\n",
        "final_2nd_accuracies = [97.08, 97.76, 97.82, 97.90, 97.51, 97.44, 97.97, 98.05, 98.05, 98.08]\n",
        "final_2nd_train_time = [61.15, 63.26, 61.88, 61.55, 65.77, 62.38, 61.30, 63.22, 62.57, 63.27]\n",
        "print(f\"최종 테스트 정확도: {meanstd(final_2nd_accuracies)}\")\n",
        "print(f\"훈련 시간: {ms(final_2nd_train_time)}\")\n",
        "print(\"\\n\")\n"
      ],
      "metadata": {
        "colab": {
          "base_uri": "https://localhost:8080/"
        },
        "id": "GgGrW5VySUV5",
        "outputId": "2f3f2382-5914-4bf4-b31e-bf36d4f6b36d"
      },
      "id": "GgGrW5VySUV5",
      "execution_count": 157,
      "outputs": [
        {
          "output_type": "stream",
          "name": "stdout",
          "text": [
            "실험 2: 모델 구조 개선 - 실험 1에서 튜닝한 하이퍼파라미터 유지\n",
            "\n",
            "\n",
            "은닉층 2개로 증가(hidden_size1=550, hidden_size2=256), 5번 반복\n",
            "97.55% ± 0.21%, 1분 9.07초 ± 0분 2.68초\n",
            "\n",
            "\n",
            "은닉층 3개로 증가(hidden_size1=550, hidden_size2=256, hidden_size3=128), 5번 반복\n",
            "97.60% ± 0.18%, 0분 59.89초 ± 0분 1.37초\n",
            "\n",
            "\n",
            "은닉층 4개로 증가(hidden_size1=550, hidden_size2=256, hidden_size3=128, hidden_size=64), 5번 반복\n",
            "97.48% ± 0.26%, 1분 0.66초 ± 0분 1.18초\n",
            "\n",
            "\n",
            "Dropout(p=0.3) 모든 층 적용, 5번 반복\n",
            "97.49% ± 0.19%, 1분 0.52초 ± 0분 1.44초\n",
            "\n",
            "\n",
            "LeakyReLU 1번째 및 3번째 은닉층에 적용, Tanh 2번째 은닉층에 적용, 5번 반복\n",
            "97.88% ± 0.10%, 1분 1.16초 ± 0분 1.45초\n",
            "\n",
            "\n",
            "BatchNorm1d 정규화 모든 은닉층에 적용, 5번 반복\n",
            "97.55% ± 0.28%, 1분 2.78초 ± 0분 0.77초\n",
            "\n",
            "\n",
            "BatchNorm1d 정규화 미적용 및 첫 번째 은닉층 사이즈 589로 증가, 5번 반복\n",
            "97.66% ± 0.39%, 1분 3.98초 ± 0분 2.79초\n",
            "\n",
            "\n",
            "BatchNorm1d 정규화 모든 은닉층에 재적용한 최종 모델 실험(10번 반복)\n",
            "최종 테스트 정확도: 97.77% ± 0.31%\n",
            "훈련 시간: 1분 2.64초 ± 0분 1.29초\n",
            "\n",
            "\n"
          ]
        }
      ]
    }
  ],
  "metadata": {
    "kernelspec": {
      "display_name": "Python 3",
      "name": "python3"
    },
    "language_info": {
      "codemirror_mode": {
        "name": "ipython",
        "version": 3
      },
      "file_extension": ".py",
      "mimetype": "text/x-python",
      "name": "python",
      "nbconvert_exporter": "python",
      "pygments_lexer": "ipython3",
      "version": "3.11.13"
    },
    "colab": {
      "provenance": [],
      "gpuType": "T4"
    },
    "accelerator": "GPU"
  },
  "nbformat": 4,
  "nbformat_minor": 5
}